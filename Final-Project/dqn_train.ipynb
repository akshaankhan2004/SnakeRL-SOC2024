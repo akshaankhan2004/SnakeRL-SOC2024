{
 "cells": [
  {
   "cell_type": "code",
   "execution_count": 3,
   "metadata": {},
   "outputs": [
    {
     "name": "stdout",
     "output_type": "stream",
     "text": [
      "pygame 2.6.0 (SDL 2.28.4, Python 3.9.6)\n",
      "Hello from the pygame community. https://www.pygame.org/contribute.html\n"
     ]
    }
   ],
   "source": [
    "import tensorflow as tf\n",
    "import matplotlib.pyplot as plt\n",
    "import numpy as np\n",
    "from copy import copy\n",
    "\n",
    "import pygame\n",
    "import random\n",
    "from enum import Enum\n",
    "from collections import namedtuple\n",
    "import numpy as np"
   ]
  },
  {
   "cell_type": "code",
   "execution_count": 4,
   "metadata": {},
   "outputs": [],
   "source": [
    "def getDQN(input_shape):\n",
    "    input = tf.keras.layers.Input(shape = (input_shape, ))\n",
    "    out = tf.keras.layers.Dense(64, activation = 'relu')(input)\n",
    "    out = tf.keras.layers.Dense(64, activation = 'relu')(out)\n",
    "    output = tf.keras.layers.Dense(3, activation = 'softmax')(out)\n",
    "    model = tf.keras.Model(input, output)\n",
    "    return model"
   ]
  },
  {
   "cell_type": "code",
   "execution_count": 5,
   "metadata": {},
   "outputs": [],
   "source": [
    "import pygame\n",
    "import random\n",
    "import numpy as np\n",
    "from collections import namedtuple\n",
    "from enum import Enum\n",
    "\n",
    "class Direction(Enum):\n",
    "    RIGHT = 1\n",
    "    LEFT = 2\n",
    "    UP = 3\n",
    "    DOWN = 4\n",
    "\n",
    "Point = namedtuple(\"Point\", \"x, y\")\n",
    "\n",
    "# rgb colors\n",
    "WHITE = (255, 255, 255)\n",
    "RED = (200,0,0)\n",
    "BLUE1 = (0, 0, 255)\n",
    "BLUE2 = (0, 100, 255)\n",
    "BLACK = (0,0,0)\n",
    "\n",
    "BLOCK_SIZE = 60\n",
    "SPEED = 120\n",
    "\n",
    "class SnakeGameEnvironment:\n",
    "\n",
    "    def __init__(self, width=360, height=360, playerName=\"Player\", visualize=False):\n",
    "        self.w = width\n",
    "        self.h = height\n",
    "        self.playerName = playerName\n",
    "        self.visualize = visualize\n",
    "\n",
    "        # Initialize display and font only if visualization is enabled\n",
    "        if self.visualize:\n",
    "            pygame.display.init()\n",
    "            pygame.font.init()\n",
    "            self.display = pygame.display.set_mode((self.w, self.h))\n",
    "            pygame.display.set_caption(\"Silly Snake\")\n",
    "            self.font = pygame.font.Font(pygame.font.get_default_font(), 25)\n",
    "        self.clock = pygame.time.Clock()\n",
    "\n",
    "        # init game\n",
    "        self.reset()\n",
    "        self.initial_state = self.getState()\n",
    "\n",
    "    def reset(self):\n",
    "        self.direction = Direction.RIGHT\n",
    "        self.head = Point(self.w / 2, self.h / 2)\n",
    "        self.snake = [self.head,\n",
    "                      Point(self.head.x - BLOCK_SIZE, self.head.y),\n",
    "                      Point(self.head.x - (2 * BLOCK_SIZE), self.head.y)]\n",
    "\n",
    "        self.score = 0\n",
    "        self.food = None\n",
    "\n",
    "        self.placeFood()\n",
    "\n",
    "        self.frameIteration = 0\n",
    "\n",
    "    def placeFood(self):\n",
    "        x = random.randint(0, (self.w-BLOCK_SIZE )//BLOCK_SIZE )*BLOCK_SIZE\n",
    "        y = random.randint(0, (self.h-BLOCK_SIZE )//BLOCK_SIZE )*BLOCK_SIZE\n",
    "        self.food = Point(x, y)\n",
    "        if self.food in self.snake:\n",
    "            self.placeFood()\n",
    "\n",
    "    def playStep(self, action):\n",
    "        self.frameIteration += 1\n",
    "\n",
    "        if self.visualize:\n",
    "            for event in pygame.event.get():\n",
    "                if event.type == pygame.QUIT:\n",
    "                    pygame.quit()\n",
    "                    quit()\n",
    "\n",
    "        # Move the snake\n",
    "        self.moveSnake(action)\n",
    "        reward = 0\n",
    "\n",
    "        # Check for collisions\n",
    "        if self.isCollision() or self.frameIteration > 100 * len(self.snake):\n",
    "            gameOver = True\n",
    "            reward -= 10\n",
    "            state = self.getState()\n",
    "            return state, reward, gameOver, self.score\n",
    "\n",
    "        # Check if the snake has eaten the food\n",
    "        if self.head == self.food:\n",
    "            self.score += 1\n",
    "            reward = 10\n",
    "            self.placeFood()\n",
    "        else:\n",
    "            self.snake.pop()\n",
    "\n",
    "        # Update UI and clock only if visualization is enabled\n",
    "        if self.visualize:\n",
    "            self.updateUi()\n",
    "            self.clock.tick(SPEED)\n",
    "\n",
    "        gameOver = False\n",
    "        state = self.getState()\n",
    "\n",
    "        return state, reward, gameOver, self.score\n",
    "\n",
    "    def getState(self):\n",
    "        head = self.snake[0]\n",
    "        food = self.food\n",
    "\n",
    "        # Get the relative positions of food to the snake's head\n",
    "        foodDirection = (np.sign(food.x - head.x), np.sign(food.y - head.y))\n",
    "\n",
    "        # Get danger information (if there's a collision in the next move in each direction)\n",
    "        danger_straight = self.isCollision(self.nextPoint(self.direction))\n",
    "        danger_right = self.isCollision(self.nextPoint(Direction((self.direction.value % 4) + 1)))\n",
    "        danger_left = self.isCollision(self.nextPoint(Direction((self.direction.value - 2) % 4 + 1)))\n",
    "\n",
    "        state = [\n",
    "            danger_straight,\n",
    "            danger_right,\n",
    "            danger_left,\n",
    "            self.direction == Direction.RIGHT,\n",
    "            self.direction == Direction.LEFT,\n",
    "            self.direction == Direction.UP,\n",
    "            self.direction == Direction.DOWN,\n",
    "            foodDirection[0],\n",
    "            foodDirection[1],\n",
    "        ]\n",
    "\n",
    "        return np.array(state, dtype=int)\n",
    "\n",
    "    def nextPoint(self, direction):\n",
    "        x = self.head.x\n",
    "        y = self.head.y\n",
    "\n",
    "        if direction == Direction.RIGHT:\n",
    "            x += BLOCK_SIZE\n",
    "        elif direction == Direction.LEFT:\n",
    "            x -= BLOCK_SIZE\n",
    "        elif direction == Direction.DOWN:\n",
    "            y += BLOCK_SIZE\n",
    "        elif direction == Direction.UP:\n",
    "            y -= BLOCK_SIZE\n",
    "\n",
    "        return Point(x, y)\n",
    "\n",
    "    def isCollision(self, p: Point = None):\n",
    "        if p is None:\n",
    "            p = self.head\n",
    "\n",
    "        # Check if it hits border\n",
    "        if p.x > self.w - BLOCK_SIZE or p.x < 0:\n",
    "            return True\n",
    "\n",
    "        if p.y > self.h - BLOCK_SIZE or p.y < 0:\n",
    "            return True\n",
    "\n",
    "        # Check if it hits itself\n",
    "        if p in self.snake[1:]:\n",
    "            return True\n",
    "\n",
    "        return False\n",
    "\n",
    "    def moveSnake(self, action):\n",
    "        # action -> [straight, right, left]\n",
    "        clockWiseDirections = [Direction.RIGHT, Direction.DOWN, Direction.LEFT, Direction.UP]\n",
    "        currentDirectionIndex = clockWiseDirections.index(self.direction)\n",
    "\n",
    "        newDirection = self.direction\n",
    "\n",
    "        if np.array_equal(action, [0, 1, 0]):   # right\n",
    "            newDirection = clockWiseDirections[(currentDirectionIndex + 1) % 4]\n",
    "        elif np.array_equal(action, [0, 0, 1]): # left\n",
    "            newDirection = clockWiseDirections[(currentDirectionIndex - 1) % 4]\n",
    "\n",
    "        self.direction = newDirection\n",
    "\n",
    "        x = self.head.x\n",
    "        y = self.head.y\n",
    "\n",
    "        if self.direction == Direction.RIGHT:\n",
    "            x += BLOCK_SIZE\n",
    "        elif self.direction == Direction.LEFT:\n",
    "            x -= BLOCK_SIZE\n",
    "        elif self.direction == Direction.DOWN:\n",
    "            y += BLOCK_SIZE\n",
    "        elif self.direction == Direction.UP:\n",
    "            y -= BLOCK_SIZE\n",
    "\n",
    "        self.head = Point(x, y)\n",
    "\n",
    "        # This grows the size of our snake\n",
    "        self.snake.insert(0, self.head)\n",
    "\n",
    "    def updateUi(self):\n",
    "        self.display.fill(BLACK)\n",
    "\n",
    "        for p in self.snake:\n",
    "            pygame.draw.rect(self.display, BLUE1, pygame.Rect(p.x, p.y, BLOCK_SIZE, BLOCK_SIZE))\n",
    "            pygame.draw.rect(self.display, BLUE2, pygame.Rect(p.x + 4, p.y + 4, 12, 12))\n",
    "\n",
    "        pygame.draw.rect(self.display, RED, pygame.Rect(self.food.x, self.food.y, BLOCK_SIZE, BLOCK_SIZE))\n",
    "\n",
    "        scoreText = self.font.render(\"Score: \" + str(self.score) + \" Speed: \" + str(SPEED) + \" Player: \" + self.playerName, True, WHITE)\n",
    "\n",
    "        self.display.blit(scoreText, [0, 0])\n",
    "\n",
    "        pygame.display.flip()\n",
    "\n",
    "    def setPlayerName(self, name):\n",
    "        self.playerName = name\n"
   ]
  },
  {
   "cell_type": "code",
   "execution_count": 6,
   "metadata": {},
   "outputs": [
    {
     "name": "stderr",
     "output_type": "stream",
     "text": [
      "2024-08-08 06:45:59.326 Python[3211:48083298] WARNING: Secure coding is automatically enabled for restorable state! However, not on all supported macOS versions of this application. Opt-in to secure coding explicitly by implementing NSApplicationDelegate.applicationSupportsSecureRestorableState:.\n"
     ]
    }
   ],
   "source": [
    "env = SnakeGameEnvironment(playerName = \"DQN_RL\", visualize = True)"
   ]
  },
  {
   "cell_type": "code",
   "execution_count": 7,
   "metadata": {},
   "outputs": [],
   "source": [
    "state_shape = env.initial_state.shape[0]"
   ]
  },
  {
   "cell_type": "code",
   "execution_count": 8,
   "metadata": {},
   "outputs": [],
   "source": [
    "dqn_model = getDQN(input_shape = state_shape)\n",
    "target_model = copy(dqn_model)\n",
    "optimiser = tf.keras.optimizers.Adam(learning_rate = 0.0001)"
   ]
  },
  {
   "cell_type": "code",
   "execution_count": 93,
   "metadata": {},
   "outputs": [],
   "source": [
    "episodes = 10000\n",
    "epsilon = 1\n",
    "eps_decay = 0.995\n",
    "min_eps = 0.1\n",
    "max_buffer_size = 500\n",
    "gamma = 0.95\n",
    "buffer = []\n",
    "action_space = [[1, 0 , 0], [0, 1, 0], [0, 0, 1]]"
   ]
  },
  {
   "cell_type": "code",
   "execution_count": 10,
   "metadata": {},
   "outputs": [
    {
     "data": {
      "text/plain": [
       "[1, 0, 0]"
      ]
     },
     "execution_count": 10,
     "metadata": {},
     "output_type": "execute_result"
    }
   ],
   "source": [
    "action_space[0]"
   ]
  },
  {
   "cell_type": "code",
   "execution_count": 11,
   "metadata": {},
   "outputs": [
    {
     "data": {
      "text/plain": [
       "[0, 0, 1]"
      ]
     },
     "execution_count": 11,
     "metadata": {},
     "output_type": "execute_result"
    }
   ],
   "source": [
    "action_space[np.random.choice(len(action_space))]"
   ]
  },
  {
   "cell_type": "code",
   "execution_count": 12,
   "metadata": {},
   "outputs": [],
   "source": [
    "target_model.load_weights(\"DQN_SNAKE-60-360-360.weights.h5\")\n",
    "dqn_model.load_weights(\"DQN_SNAKE-60-360-360.weights.h5\")"
   ]
  },
  {
   "cell_type": "code",
   "execution_count": 118,
   "metadata": {},
   "outputs": [],
   "source": [
    "epsilon = 0.1\n",
    "min_eps = 0.05"
   ]
  },
  {
   "cell_type": "code",
   "execution_count": null,
   "metadata": {},
   "outputs": [],
   "source": [
    "total_reward_history = []\n",
    "loss_history = []\n",
    "for i in range(episodes):\n",
    "    env.reset()\n",
    "    gameOver = False\n",
    "    curr_state = env.initial_state\n",
    "    action_history = [0, 0, 0]\n",
    "    exploration_exploitation = [0, 0]\n",
    "    total_loss = 0\n",
    "    total_reward = 0\n",
    "    reward_history = []\n",
    "    \n",
    "\n",
    "    while not gameOver:\n",
    "        random_num = np.random.uniform(0, 1)\n",
    "        if random_num < epsilon:\n",
    "            action = np.random.choice(len(action_space))\n",
    "            action_history[action] += 1\n",
    "            exploration_exploitation[0] += 1\n",
    "        else:\n",
    "            action = np.argmax(target_model.predict(curr_state.reshape((-1, state_shape)), verbose = 0))\n",
    "            action_history[action] += 1\n",
    "            exploration_exploitation[1] += 1\n",
    "        next_state, reward, gameOver, curr_score = env.playStep(action_space[action])\n",
    "\n",
    "        quadruple = (curr_state, action, reward, next_state, gameOver)\n",
    "        buffer.append(quadruple)\n",
    "        if len(buffer) > max_buffer_size:\n",
    "            buffer.pop(0)\n",
    "        curr_state = next_state\n",
    "\n",
    "        reward_history.append(reward)\n",
    "        total_reward += reward\n",
    "\n",
    "        if env.visualize:\n",
    "            env.updateUi()\n",
    "    \n",
    "    random_indices = np.random.choice(len(buffer), min(len(buffer) - 1, 50), replace = False)\n",
    "    sampled_quadruples = [buffer[int(random_index)] for random_index in random_indices]\n",
    "\n",
    "    for quad in sampled_quadruples:\n",
    "        curr_state, action, reward, next_state, gameOver = quad\n",
    "        next_q_val = np.max(target_model.predict(next_state.reshape((-1, state_shape)), verbose = 0))\n",
    "        if gameOver:\n",
    "            target_q_val = reward\n",
    "        else:\n",
    "            target_q_val = reward + gamma * next_q_val\n",
    "        \n",
    "        with tf.GradientTape() as tape:\n",
    "            curr_q = dqn_model(curr_state.reshape((-1, state_shape)), training = True)\n",
    "            target_q = copy(curr_q)\n",
    "            target_q = target_q.numpy()\n",
    "            target_q[0][np.argmax(curr_q)] = target_q_val\n",
    "            tagrte_q = tf.convert_to_tensor(target_q)\n",
    "            loss = tf.reduce_sum(tf.keras.ops.square(target_q - curr_q))\n",
    "        grads = tape.gradient(loss, dqn_model.trainable_variables)\n",
    "        optimiser.apply_gradients(zip(grads, dqn_model.trainable_variables))\n",
    "        total_loss += loss\n",
    "\n",
    "    total_loss /= len(sampled_quadruples)\n",
    "    loss_history.append(total_loss)\n",
    "    total_reward_history.append(total_reward)\n",
    "\n",
    "    epsilon = max(epsilon * eps_decay, min_eps)\n",
    "\n",
    "    if i % 5 == 0:\n",
    "        target_model.set_weights(dqn_model.get_weights())\n",
    "    \n",
    "    if i % 50 == 0:\n",
    "        target_model.save_weights(\"DQN_SNAKE-60-360-360.weights.h5\")\n",
    "\n",
    "    print(i, \"-> LOSS->\", total_loss, \"-> Reward->\", total_reward, \"-> SCORE->\", env.score)\n",
    "    print(\"ACTION->\", action_history, \"-> EXPLORATION->\", exploration_exploitation)\n",
    "\n",
    "            "
   ]
  },
  {
   "cell_type": "code",
   "execution_count": 121,
   "metadata": {},
   "outputs": [],
   "source": [
    "target_model.save_weights(\"BEST_DQN_SNAKE-60-360-360.weights.h5\")"
   ]
  },
  {
   "cell_type": "code",
   "execution_count": 122,
   "metadata": {},
   "outputs": [
    {
     "data": {
      "text/plain": [
       "[<matplotlib.lines.Line2D at 0x352e79310>]"
      ]
     },
     "execution_count": 122,
     "metadata": {},
     "output_type": "execute_result"
    },
    {
     "data": {
      "image/png": "[encoded data removed]",
      "text/plain": [
       "<Figure size 640x480 with 1 Axes>"
      ]
     },
     "metadata": {},
     "output_type": "display_data"
    }
   ],
   "source": [
    "plt.plot(loss_history)"
   ]
  },
  {
   "cell_type": "code",
   "execution_count": 123,
   "metadata": {},
   "outputs": [
    {
     "data": {
      "text/plain": [
       "[<matplotlib.lines.Line2D at 0x35040bb20>]"
      ]
     },
     "execution_count": 123,
     "metadata": {},
     "output_type": "execute_result"
    },
    {
     "data": {
      "image/png": "[encoded data removed]",
      "text/plain": [
       "<Figure size 640x480 with 1 Axes>"
      ]
     },
     "metadata": {},
     "output_type": "display_data"
    }
   ],
   "source": [
    "plt.plot(total_reward_history)"
   ]
  },
  {
   "cell_type": "code",
   "execution_count": 132,
   "metadata": {},
   "outputs": [],
   "source": [
    "env.reset()\n",
    "gameOver = False\n",
    "curr_state = env.initial_state\n",
    "total_reward = 0\n",
    "\n",
    "while not gameOver:\n",
    "\n",
    "    action = np.argmax(target_model.predict(curr_state.reshape((-1, state_shape)), verbose = 0))\n",
    "    action_history[action] += 1\n",
    "    next_state, reward, gameOver, curr_score = env.playStep(action_space[action])\n",
    "    curr_state = next_state\n",
    "    total_reward += reward\n",
    "\n",
    "    if env.visualize:\n",
    "        env.updateUi()"
   ]
  },
  {
   "cell_type": "code",
   "execution_count": 133,
   "metadata": {},
   "outputs": [
    {
     "name": "stdout",
     "output_type": "stream",
     "text": [
      "90\n",
      "[201, 70, 72]\n"
     ]
    }
   ],
   "source": [
    "print(total_reward)\n",
    "print(action_history)"
   ]
  }
 ],
 "metadata": {
  "kernelspec": {
   "display_name": "venv",
   "language": "python",
   "name": "python3"
  },
  "language_info": {
   "codemirror_mode": {
    "name": "ipython",
    "version": 3
   },
   "file_extension": ".py",
   "mimetype": "text/x-python",
   "name": "python",
   "nbconvert_exporter": "python",
   "pygments_lexer": "ipython3",
   "version": "3.9.6"
  }
 },
 "nbformat": 4,
 "nbformat_minor": 2
}
