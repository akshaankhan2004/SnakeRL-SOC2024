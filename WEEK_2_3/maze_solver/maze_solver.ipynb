{
 "cells": [
  {
   "cell_type": "code",
   "execution_count": 4,
   "metadata": {},
   "outputs": [],
   "source": [
    "import numpy as np"
   ]
  },
  {
   "cell_type": "code",
   "execution_count": 14,
   "metadata": {},
   "outputs": [],
   "source": [
    "class MazeSolver:\n",
    "    def __init__(self, maze, discount_factor = 0.95, value_iters = 1000):\n",
    "        self.maze = maze\n",
    "        self.discount = discount_factor\n",
    "        self.value_table = np.zeros((maze.shape[0], maze.shape[1]))\n",
    "        self.reward_table = np.zeros((maze.shape[0], maze.shape[1]))\n",
    "        self.initialise()\n",
    "        for i in range(value_iters):\n",
    "            self.value_table_update()\n",
    "    \n",
    "    def initialise(self):\n",
    "        for i in range(self.maze.shape[0]):\n",
    "            for j in range(self.maze.shape[1]):\n",
    "                if self.maze[i][j] == 1:\n",
    "                    self.value_table[i][j] = -100\n",
    "                else:\n",
    "                    continue\n",
    "                \n",
    "        for i in range(self.maze.shape[0]):\n",
    "            for j in range(self.maze.shape[1]):\n",
    "                if self.maze[i][j] == 1:\n",
    "                    self.reward_table[i][j] = -100\n",
    "                elif self.maze[i][j] == 3:\n",
    "                    self.reward_table[i][j] = 1\n",
    "                elif self.maze[i][j] == 2:\n",
    "                    self.reward_table[i][j] = -1\n",
    "                else:\n",
    "                    continue\n",
    "        \n",
    "    def is_valid_state(self, state):\n",
    "        if state[0] >= self.maze.shape[0] or state[0] < 0 or state[1] >= self.maze.shape[1] or state[1] < 0:\n",
    "            return False\n",
    "        if self.maze[state[0]][state[1]] == 1:\n",
    "            return False\n",
    "        else:\n",
    "            return True\n",
    "        \n",
    "    def get_max_value(self, state):\n",
    "        if not self.is_valid_state(state):\n",
    "            return False\n",
    "        else:\n",
    "            values = []\n",
    "            if self.is_valid_state((state[0] + 1, state[1])):\n",
    "                v = self.value_table[state[0] + 1][state[1]] * self.discount + self.reward_table[state[0]][state[1]]\n",
    "                values.append(v)\n",
    "            if self.is_valid_state((state[0], state[1] + 1)):\n",
    "                v = self.value_table[state[0]][state[1] + 1] * self.discount + self.reward_table[state[0]][state[1]]\n",
    "                values.append(v)\n",
    "            if self.is_valid_state((state[0] - 1, state[1])):\n",
    "                v = self.value_table[state[0] - 1][state[1]] * self.discount + self.reward_table[state[0]][state[1]]\n",
    "                values.append(v)\n",
    "            if self.is_valid_state((state[0], state[1] - 1)):\n",
    "                v = self.value_table[state[0]][state[1] - 1] * self.discount + self.reward_table[state[0]][state[1]]\n",
    "                values.append(v)\n",
    "            max_val = max(values)\n",
    "            self.value_table[state[0]][state[1]] = max_val\n",
    "        return True\n",
    "    \n",
    "    def get_best_state(self, state):\n",
    "        x, y = state\n",
    "        possible_states = [(x + 1, y), (x, y + 1), (x - 1, y), (x, y - 1)]\n",
    "        values = []\n",
    "        for s in possible_states:\n",
    "            if not self.is_valid_state(s):\n",
    "                values.append(-100)\n",
    "            else:\n",
    "                values.append(self.value_table[*s])\n",
    "        index = np.array(values).argmax()\n",
    "        return possible_states[index]\n",
    "\n",
    "    def value_table_update(self):\n",
    "        for i in range(self.maze.shape[0]):\n",
    "            for j in range(self.maze.shape[1]):\n",
    "                state = (i, j)\n",
    "                update = self.get_max_value(state)\n",
    "    \n",
    "    def solve_maze(self, starting_state):\n",
    "        value = 0\n",
    "        curr_state = starting_state\n",
    "        final_state = np.where(self.maze == 3)\n",
    "        while not curr_state == final_state:\n",
    "            if not self.is_valid_state(curr_state):\n",
    "                print(\"INVALID STATE REACHED\\nSTATE : \", curr_state)\n",
    "                return False\n",
    "            value += self.value_table[*curr_state]\n",
    "            self.maze[*curr_state] = +100\n",
    "            # value[*curr_state] = -1000\n",
    "            curr_state = self.get_best_state(curr_state)\n",
    "        return True"
   ]
  },
  {
   "cell_type": "code",
   "execution_count": 15,
   "metadata": {},
   "outputs": [],
   "source": [
    "grid_path = \"../base/data/maze/grid10.txt\""
   ]
  },
  {
   "cell_type": "code",
   "execution_count": 16,
   "metadata": {},
   "outputs": [],
   "source": [
    "maze = np.loadtxt(grid_path)"
   ]
  },
  {
   "cell_type": "code",
   "execution_count": 17,
   "metadata": {},
   "outputs": [],
   "source": [
    "solver = MazeSolver(maze)"
   ]
  },
  {
   "cell_type": "code",
   "execution_count": 18,
   "metadata": {},
   "outputs": [
    {
     "data": {
      "text/plain": [
       "True"
      ]
     },
     "execution_count": 18,
     "metadata": {},
     "output_type": "execute_result"
    }
   ],
   "source": [
    "solver.solve_maze((1, 1))"
   ]
  },
  {
   "cell_type": "code",
   "execution_count": 19,
   "metadata": {},
   "outputs": [
    {
     "data": {
      "text/plain": [
       "array([[  1.,   1.,   1.,   1.,   1.,   1.,   1.,   1.,   1.,   1.,   1.],\n",
       "       [  1., 100.,   0.,   0.,   0.,   0.,   0.,   2.,   0.,   0.,   1.],\n",
       "       [  1., 100.,   1.,   1.,   1.,   1.,   1.,   0.,   1.,   0.,   1.],\n",
       "       [  1., 100.,   0.,   0.,   0.,   0.,   0.,   0.,   1.,   0.,   1.],\n",
       "       [  1., 100.,   1.,   0.,   1.,   1.,   1.,   1.,   1.,   0.,   1.],\n",
       "       [  1., 100.,   1.,   0.,   0.,   0.,   1.,   0.,   0.,   0.,   1.],\n",
       "       [  1., 100.,   1.,   0.,   1.,   1.,   1.,   1.,   1.,   0.,   1.],\n",
       "       [  1., 100.,   1.,   0.,   1., 100., 100.,   3.,   1.,   0.,   1.],\n",
       "       [  1., 100.,   1.,   1.,   1., 100.,   1.,   1.,   1.,   0.,   1.],\n",
       "       [  1., 100., 100., 100., 100., 100.,   0.,   0.,   1.,   0.,   1.],\n",
       "       [  1.,   1.,   1.,   1.,   1.,   1.,   1.,   1.,   1.,   1.,   1.]])"
      ]
     },
     "execution_count": 19,
     "metadata": {},
     "output_type": "execute_result"
    }
   ],
   "source": [
    "solver.maze"
   ]
  }
 ],
 "metadata": {
  "kernelspec": {
   "display_name": "venv",
   "language": "python",
   "name": "python3"
  },
  "language_info": {
   "codemirror_mode": {
    "name": "ipython",
    "version": 3
   },
   "file_extension": ".py",
   "mimetype": "text/x-python",
   "name": "python",
   "nbconvert_exporter": "python",
   "pygments_lexer": "ipython3",
   "version": "3.12.3"
  }
 },
 "nbformat": 4,
 "nbformat_minor": 2
}
