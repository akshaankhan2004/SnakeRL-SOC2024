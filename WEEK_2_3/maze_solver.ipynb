{
 "cells": [
  {
   "cell_type": "code",
   "execution_count": 264,
   "metadata": {},
   "outputs": [],
   "source": [
    "import numpy as np"
   ]
  },
  {
   "cell_type": "code",
   "execution_count": 265,
   "metadata": {},
   "outputs": [],
   "source": [
    "maze = [[0, 1, 0, -1, 0],\n",
    "        [0, 0, 0, 0, 0],\n",
    "        [-1, 0, 0, 1, -1],\n",
    "        [1, 0, 0, 0, 3],\n",
    "        [0, 0, -1, 0, -1]]\n",
    "# -1 is bomb site, 3 is final goal, 1 is wall\n",
    "maze = np.array(maze)"
   ]
  },
  {
   "cell_type": "code",
   "execution_count": 266,
   "metadata": {},
   "outputs": [],
   "source": [
    "value_table = np.zeros((maze.shape[0], maze.shape[1]))"
   ]
  },
  {
   "cell_type": "code",
   "execution_count": 267,
   "metadata": {},
   "outputs": [],
   "source": [
    "value_table = np.zeros((maze.shape[0], maze.shape[1]))\n",
    "for i in range(maze.shape[0]):\n",
    "    for j in range(maze.shape[1]):\n",
    "        if maze[i][j] == 1:\n",
    "            value_table[i][j] = -100\n",
    "        else:\n",
    "            continue"
   ]
  },
  {
   "cell_type": "code",
   "execution_count": 268,
   "metadata": {},
   "outputs": [],
   "source": [
    "reward_table = np.zeros((maze.shape[0], maze.shape[1]))\n",
    "for i in range(maze.shape[0]):\n",
    "    for j in range(maze.shape[1]):\n",
    "        if maze[i][j] == 1:\n",
    "            reward_table[i][j] = -100\n",
    "        elif maze[i][j] == 3:\n",
    "            reward_table[i][j] = 1\n",
    "        elif maze[i][j] == -1:\n",
    "            reward_table[i][j] = -1\n",
    "        else:\n",
    "            continue"
   ]
  },
  {
   "cell_type": "code",
   "execution_count": 269,
   "metadata": {},
   "outputs": [
    {
     "data": {
      "text/plain": [
       "array([[   0., -100.,    0.,   -1.,    0.],\n",
       "       [   0.,    0.,    0.,    0.,    0.],\n",
       "       [  -1.,    0.,    0., -100.,   -1.],\n",
       "       [-100.,    0.,    0.,    0.,    1.],\n",
       "       [   0.,    0.,   -1.,    0.,   -1.]])"
      ]
     },
     "execution_count": 269,
     "metadata": {},
     "output_type": "execute_result"
    }
   ],
   "source": [
    "reward_table"
   ]
  },
  {
   "cell_type": "code",
   "execution_count": 270,
   "metadata": {},
   "outputs": [
    {
     "data": {
      "text/plain": [
       "(5, 5)"
      ]
     },
     "execution_count": 270,
     "metadata": {},
     "output_type": "execute_result"
    }
   ],
   "source": [
    "maze.shape[0], maze.shape[1]"
   ]
  },
  {
   "cell_type": "code",
   "execution_count": 271,
   "metadata": {},
   "outputs": [],
   "source": [
    "def is_valid_state(state, maze):\n",
    "    if state[0] >= maze.shape[0] or state[0] < 0 or state[1] >= maze.shape[1] or state[1] < 0:\n",
    "        return False\n",
    "    if maze[state[0]][state[1]] == 1:\n",
    "        return False\n",
    "    else:\n",
    "        return True"
   ]
  },
  {
   "cell_type": "code",
   "execution_count": 272,
   "metadata": {},
   "outputs": [],
   "source": [
    "def get_max_value(state, maze, reward_table, value_table, discount):\n",
    "    if not is_valid_state(state, maze):\n",
    "        return False\n",
    "    else:\n",
    "        values = []\n",
    "        if is_valid_state((state[0] + 1, state[1]), maze):\n",
    "            v = value_table[state[0] + 1][state[1]] * discount + reward_table[state[0]][state[1]]\n",
    "            values.append(v)\n",
    "        if is_valid_state((state[0], state[1] + 1), maze):\n",
    "            v = value_table[state[0]][state[1] + 1] * discount + reward_table[state[0]][state[1]]\n",
    "            values.append(v)\n",
    "        if is_valid_state((state[0] - 1, state[1]), maze):\n",
    "            v = value_table[state[0] - 1][state[1]] * discount + reward_table[state[0]][state[1]]\n",
    "            values.append(v)\n",
    "        if is_valid_state((state[0], state[1] - 1), maze):\n",
    "            v = value_table[state[0]][state[1] - 1] * discount + reward_table[state[0]][state[1]]\n",
    "            values.append(v)\n",
    "        max_val = max(values)\n",
    "        value_table[state[0]][state[1]] = max_val\n",
    "    return True\n",
    "        "
   ]
  },
  {
   "cell_type": "code",
   "execution_count": 273,
   "metadata": {},
   "outputs": [
    {
     "data": {
      "text/plain": [
       "array([[   0., -100.,    0.,    0.,    0.],\n",
       "       [   0.,    0.,    0.,    0.,    0.],\n",
       "       [   0.,    0.,    0., -100.,    0.],\n",
       "       [-100.,    0.,    0.,    0.,    0.],\n",
       "       [   0.,    0.,    0.,    0.,    0.]])"
      ]
     },
     "execution_count": 273,
     "metadata": {},
     "output_type": "execute_result"
    }
   ],
   "source": [
    "value_table"
   ]
  },
  {
   "cell_type": "code",
   "execution_count": 274,
   "metadata": {},
   "outputs": [
    {
     "data": {
      "text/plain": [
       "array([[   0., -100.,    0.,   -1.,    0.],\n",
       "       [   0.,    0.,    0.,    0.,    0.],\n",
       "       [  -1.,    0.,    0., -100.,   -1.],\n",
       "       [-100.,    0.,    0.,    0.,    1.],\n",
       "       [   0.,    0.,   -1.,    0.,   -1.]])"
      ]
     },
     "execution_count": 274,
     "metadata": {},
     "output_type": "execute_result"
    }
   ],
   "source": [
    "reward_table"
   ]
  },
  {
   "cell_type": "code",
   "execution_count": 275,
   "metadata": {},
   "outputs": [],
   "source": [
    "def value_table_update(maze, reward_table, value_table, discount = 0.95):\n",
    "    for i in range(maze.shape[0]):\n",
    "        for j in range(maze.shape[1]):\n",
    "            state = (i, j)\n",
    "            update = get_max_value(state, maze, reward_table, value_table, discount)"
   ]
  },
  {
   "cell_type": "code",
   "execution_count": 276,
   "metadata": {},
   "outputs": [
    {
     "name": "stdout",
     "output_type": "stream",
     "text": [
      "[[   7.16191899 -100.            7.93575012    6.53896262    7.89067042]\n",
      " [   7.53891493    7.93575012    8.35346887    7.93579542    8.3060119 ]\n",
      " [   6.93575012    8.35346887    8.79317042 -100.            8.74321131]\n",
      " [-100.            8.79317042    9.2560119     9.74321131   10.25605074]\n",
      " [   7.93579542    8.3535119     7.79321131    9.25605074    8.7432482 ]]\n"
     ]
    }
   ],
   "source": [
    "for i in range(100):\n",
    "    value_table_update(maze, reward_table, value_table, discount = 0.95)\n",
    "print(value_table)"
   ]
  },
  {
   "cell_type": "code",
   "execution_count": 277,
   "metadata": {},
   "outputs": [],
   "source": [
    "def get_best_state(state, maze, value_table):\n",
    "    x, y = state\n",
    "    possible_states = [(x + 1, y), (x, y + 1), (x - 1, y), (x, y - 1)]\n",
    "    values = []\n",
    "    for s in possible_states:\n",
    "        if not is_valid_state(s, maze):\n",
    "            values.append(-100)\n",
    "        else:\n",
    "            values.append(value_table[*s])\n",
    "    index = np.array(values).argmax()\n",
    "    return possible_states[index]\n",
    "def solve_maze(starting_state, maze, value_table):\n",
    "    value = 0\n",
    "    curr_state = starting_state\n",
    "    final_state = np.where(maze == 3)\n",
    "    while not curr_state == final_state:\n",
    "        if not is_valid_state(curr_state, maze):\n",
    "            print(\"INVALID STATE REACHED\\nSTATE : \", curr_state)\n",
    "            return False\n",
    "        value += value_table[*curr_state]\n",
    "        maze[*curr_state] = +100\n",
    "        # value[*curr_state] = -1000\n",
    "        curr_state = get_best_state(curr_state, maze, value_table)\n",
    "    return True"
   ]
  },
  {
   "cell_type": "code",
   "execution_count": 278,
   "metadata": {},
   "outputs": [
    {
     "data": {
      "text/plain": [
       "True"
      ]
     },
     "execution_count": 278,
     "metadata": {},
     "output_type": "execute_result"
    }
   ],
   "source": [
    "solve_maze((0, 0), maze, value_table)"
   ]
  },
  {
   "cell_type": "code",
   "execution_count": 279,
   "metadata": {},
   "outputs": [
    {
     "data": {
      "text/plain": [
       "array([[100,   1,   0,  -1,   0],\n",
       "       [100, 100,   0,   0,   0],\n",
       "       [ -1, 100,   0,   1,  -1],\n",
       "       [  1, 100, 100, 100,   3],\n",
       "       [  0,   0,  -1,   0,  -1]])"
      ]
     },
     "execution_count": 279,
     "metadata": {},
     "output_type": "execute_result"
    }
   ],
   "source": [
    "maze"
   ]
  },
  {
   "cell_type": "code",
   "execution_count": 280,
   "metadata": {},
   "outputs": [
    {
     "data": {
      "text/plain": [
       "array([[   7.16191899, -100.        ,    7.93575012,    6.53896262,\n",
       "           7.89067042],\n",
       "       [   7.53891493,    7.93575012,    8.35346887,    7.93579542,\n",
       "           8.3060119 ],\n",
       "       [   6.93575012,    8.35346887,    8.79317042, -100.        ,\n",
       "           8.74321131],\n",
       "       [-100.        ,    8.79317042,    9.2560119 ,    9.74321131,\n",
       "          10.25605074],\n",
       "       [   7.93579542,    8.3535119 ,    7.79321131,    9.25605074,\n",
       "           8.7432482 ]])"
      ]
     },
     "execution_count": 280,
     "metadata": {},
     "output_type": "execute_result"
    }
   ],
   "source": [
    "value_table"
   ]
  }
 ],
 "metadata": {
  "kernelspec": {
   "display_name": "venv",
   "language": "python",
   "name": "python3"
  },
  "language_info": {
   "codemirror_mode": {
    "name": "ipython",
    "version": 3
   },
   "file_extension": ".py",
   "mimetype": "text/x-python",
   "name": "python",
   "nbconvert_exporter": "python",
   "pygments_lexer": "ipython3",
   "version": "3.12.3"
  }
 },
 "nbformat": 4,
 "nbformat_minor": 2
}
