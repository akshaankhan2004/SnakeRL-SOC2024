{
 "cells": [
  {
   "cell_type": "code",
   "execution_count": 45,
   "metadata": {},
   "outputs": [],
   "source": [
    "import numpy as np"
   ]
  },
  {
   "cell_type": "code",
   "execution_count": 46,
   "metadata": {},
   "outputs": [],
   "source": [
    "trns_probab = np.array([[1, 0, 0, 0],\n",
    "                        [0.5, 0, 0.5, 0],\n",
    "                        [0, 0.2, 0, 0.8],\n",
    "                        [0, 0, 0, 1]])"
   ]
  },
  {
   "cell_type": "code",
   "execution_count": 47,
   "metadata": {},
   "outputs": [],
   "source": [
    "ti = 0\n",
    "tf = 50\n",
    "si = 2\n",
    "pi_0 = trns_probab[si]\n",
    "pi_f = pi_0"
   ]
  },
  {
   "cell_type": "code",
   "execution_count": 48,
   "metadata": {},
   "outputs": [
    {
     "name": "stdout",
     "output_type": "stream",
     "text": [
      "[1.11111111e-01 2.00000000e-26 0.00000000e+00 8.88888889e-01]\n"
     ]
    }
   ],
   "source": [
    "for i in range(ti, tf):\n",
    "    pi_f = np.dot(pi_f, trns_probab)\n",
    "\n",
    "print(pi_f)"
   ]
  }
 ],
 "metadata": {
  "kernelspec": {
   "display_name": "venv",
   "language": "python",
   "name": "python3"
  },
  "language_info": {
   "codemirror_mode": {
    "name": "ipython",
    "version": 3
   },
   "file_extension": ".py",
   "mimetype": "text/x-python",
   "name": "python",
   "nbconvert_exporter": "python",
   "pygments_lexer": "ipython3",
   "version": "3.12.3"
  }
 },
 "nbformat": 4,
 "nbformat_minor": 2
}
